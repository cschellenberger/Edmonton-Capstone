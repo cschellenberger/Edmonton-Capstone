{
 "cells": [
  {
   "cell_type": "markdown",
   "metadata": {},
   "source": [
    "# Survey Analysis\n",
    "## Customer service responses related to property assessments"
   ]
  },
  {
   "cell_type": "code",
   "execution_count": 1,
   "metadata": {},
   "outputs": [],
   "source": [
    "# import necessary packages and\n",
    "# the inline matplotlib magic command\n",
    "\n",
    "import pandas as pd\n",
    "import numpy as np\n",
    "import seaborn as sns\n",
    "%matplotlib inline"
   ]
  },
  {
   "cell_type": "code",
   "execution_count": 2,
   "metadata": {},
   "outputs": [],
   "source": [
    "# read the data into a pandas DataFrame - assess\n",
    "\n",
    "assess = pd.read_csv('Property_Assessment__Customer_Service__-_Edmonton_Insight_Community.csv')"
   ]
  },
  {
   "cell_type": "code",
   "execution_count": 3,
   "metadata": {},
   "outputs": [
    {
     "data": {
      "text/plain": [
       "array([\"I don't recall\", 'I haven’t contacted the City',\n",
       "       'Within the last three years', nan, 'Within the last year',\n",
       "       'Within the last 6 months', 'Within the last 3 months'],\n",
       "      dtype=object)"
      ]
     },
     "execution_count": 3,
     "metadata": {},
     "output_type": "execute_result"
    }
   ],
   "source": [
    "# checking the unique values in the Question 3-City Contact column\n",
    "\n",
    "assess.Q3_CityContact.unique()"
   ]
  },
  {
   "cell_type": "code",
   "execution_count": 4,
   "metadata": {},
   "outputs": [
    {
     "name": "stdout",
     "output_type": "stream",
     "text": [
      "The number of null responces for City Contact is = 367\n"
     ]
    }
   ],
   "source": [
    "# check the number of null values in the City Contact column\n",
    "\n",
    "dfnull = assess[assess.Q3_CityContact.isnull()]\n",
    "\n",
    "print('The number of null responces for City Contact is = {}'.format(len(dfnull)))"
   ]
  },
  {
   "cell_type": "code",
   "execution_count": 5,
   "metadata": {},
   "outputs": [
    {
     "name": "stdout",
     "output_type": "stream",
     "text": [
      "The number of no recall responces for City Contact is = 157\n"
     ]
    }
   ],
   "source": [
    "# how many respondents just don't recall?\n",
    "\n",
    "df_norecall = assess[assess.Q3_CityContact == \"I don't recall\"]\n",
    "\n",
    "print('The number of no recall responces for City Contact is = {}'.format(len(df_norecall)))"
   ]
  },
  {
   "cell_type": "code",
   "execution_count": 6,
   "metadata": {},
   "outputs": [
    {
     "name": "stdout",
     "output_type": "stream",
     "text": [
      "The number of no contact responces for City Contact is = 1468\n"
     ]
    }
   ],
   "source": [
    "# how many respondents never contacted the City?\n",
    "\n",
    "df_nocontact = assess[assess.Q3_CityContact == \"I haven’t contacted the City\"]\n",
    "\n",
    "print('The number of no contact responces for City Contact is = {}'.format(len(df_nocontact)))"
   ]
  },
  {
   "cell_type": "code",
   "execution_count": 7,
   "metadata": {},
   "outputs": [
    {
     "name": "stdout",
     "output_type": "stream",
     "text": [
      "The number of contact responces for City Contact is = 305\n"
     ]
    }
   ],
   "source": [
    "# iteratively remove all the \"no contact\" data from the DataFrame\n",
    "# we are left with a DataFrame of only respondents that contacted the City\n",
    "\n",
    "df_contact = assess[~assess.Q3_CityContact.isnull()]\n",
    "df_contact = df_contact[~(df_contact.Q3_CityContact == \"I don't recall\")]\n",
    "df_contact = df_contact[~(df_contact.Q3_CityContact == \"I haven’t contacted the City\")]\n",
    "\n",
    "print('The number of contact responces for City Contact is = {}'.format(len(df_contact)))"
   ]
  },
  {
   "cell_type": "code",
   "execution_count": 8,
   "metadata": {},
   "outputs": [],
   "source": [
    "# create a new Series for each question and sort their values\n",
    "\n",
    "assign = assess['Q5_CommsAgreement_The City’s assessment team does a good job assigning property values']\n",
    "fair = assess['Q5_CommsAgreement_The assessed value of my property is fair']\n",
    "accurate = assess['Q5_CommsAgreement_The assessed value of my property is accurate']\n",
    "info = assess['Q5_CommsAgreement_Overall, I’m satisfied with access to property assessment information']\n",
    "\n",
    "assign = assign.sort_values()\n",
    "fair = fair.sort_values()\n",
    "accurate = accurate.sort_values()\n",
    "info = info.sort_values()"
   ]
  },
  {
   "cell_type": "code",
   "execution_count": 9,
   "metadata": {},
   "outputs": [
    {
     "name": "stdout",
     "output_type": "stream",
     "text": [
      "The number of null responces for: \n",
      "The City’s assessment team does a good job assigning property values is = \n",
      "2297\n",
      "\n",
      "The number of null responces for: \n",
      "The assessed value of my property is fair is = \n",
      "2297\n",
      "\n",
      "The number of null responces for: \n",
      "The assessed value of my property is accurate is = \n",
      "2297\n",
      "\n",
      "The number of null responces for: \n",
      "Overall, I’m satisfied with access to property assessment information is = \n",
      "2297\n"
     ]
    }
   ],
   "source": [
    "# how many null values are in each Series?\n",
    "\n",
    "dfnull2 = assign.isnull()\n",
    "dfnull3 = fair.isnull()\n",
    "dfnull4 = accurate.isnull()\n",
    "dfnull5 = info.isnull()\n",
    "\n",
    "print('The number of null responces for: \\\n",
    "\\nThe City’s assessment team does a good job assigning property values is = \\\n",
    "\\n{}'.format(len(dfnull2)))\n",
    "\n",
    "print('\\nThe number of null responces for: \\\n",
    "\\nThe assessed value of my property is fair is = \\\n",
    "\\n{}'.format(len(dfnull3)))\n",
    "\n",
    "print('\\nThe number of null responces for: \\\n",
    "\\nThe assessed value of my property is accurate is = \\\n",
    "\\n{}'.format(len(dfnull4)))\n",
    "\n",
    "print('\\nThe number of null responces for: \\\n",
    "\\nOverall, I’m satisfied with access to property assessment information is = \\\n",
    "\\n{}'.format(len(dfnull5)))"
   ]
  },
  {
   "cell_type": "code",
   "execution_count": 10,
   "metadata": {},
   "outputs": [],
   "source": [
    "# Remove the 2297 null responses in the dataset\n",
    "\n",
    "assign = assign[~assign.isnull()]\n",
    "fair = fair[~fair.isnull()]\n",
    "accurate = accurate[~accurate.isnull()]\n",
    "info = info[~info.isnull()]"
   ]
  },
  {
   "cell_type": "code",
   "execution_count": 11,
   "metadata": {},
   "outputs": [
    {
     "name": "stderr",
     "output_type": "stream",
     "text": [
      "/anaconda3/lib/python3.6/site-packages/matplotlib/cbook/deprecation.py:107: MatplotlibDeprecationWarning: Adding an axes using the same arguments as a previous axes currently reuses the earlier instance.  In a future version, a new instance will always be created and returned.  Meanwhile, this warning can be suppressed, and the future behavior ensured, by passing a unique label to each axes instance.\n",
      "  warnings.warn(message, mplDeprecation, stacklevel=1)\n"
     ]
    },
    {
     "data": {
      "image/png": "[encoded data removed]",
      "text/plain": [
       "<Figure size 720x576 with 1 Axes>"
      ]
     },
     "metadata": {
      "needs_background": "light"
     },
     "output_type": "display_data"
    }
   ],
   "source": [
    "import matplotlib.pyplot as plt\n",
    "\n",
    "labels = ['Strongly disagree', 'Somewhat disagree', \"Doesn't apply\", \n",
    "          \"Neither agree nor disagree\", 'Somewhat agree', 'Strongly agree']\n",
    "\n",
    "# we need a function to define the x position of our bars\n",
    "\n",
    "def create_x(t, w, n, d):\n",
    "    '''n is n dataset (out of t)\n",
    "    t is Number of datasets\n",
    "    d is Number of sets of bars\n",
    "    w is Width of each bar'''\n",
    "    \n",
    "    return [t*x + w*n for x in range(d)]\n",
    "\n",
    "plt.figure(figsize=(10,8))\n",
    "\n",
    "store1_x = create_x(4, 0.8, 1, 6)\n",
    "_ = plt.bar(store1_x, assign.value_counts(sort=False).values, label='assign', color='k')\n",
    "\n",
    "store2_x = create_x(4, 0.8, 2, 6)\n",
    "_ = plt.bar(store2_x, fair.value_counts(sort=False).values, label='fair', color='grey')\n",
    "\n",
    "store3_x = create_x(4, 0.8, 3, 6)\n",
    "_ = plt.bar(store3_x, accurate.value_counts(sort=False).values, label='accurate', color='c')\n",
    "\n",
    "store4_x = create_x(4, 0.8, 4, 6)\n",
    "_ = plt.bar(store4_x, info.value_counts(sort=False).values, label='info', color='b')\n",
    "\n",
    "#create your ax object here\n",
    "ax = plt.subplot()\n",
    "\n",
    "# our middle x calculation will ensure that the label is centered\n",
    "middle_x = [(a + b + c + d) / 4.0 for a, b, c, d in zip(store1_x, store2_x, store3_x, store4_x)]\n",
    "_ = ax.set_xticks(middle_x)\n",
    "_ = ax.set_xticklabels(labels,rotation=60)\n",
    "\n",
    "_ = plt.title('Figure 1: Survey responses related to the\\n\\\n",
    "fair and accurate assigning of property assessments\\n\\\n",
    "and available information')\n",
    "\n",
    "_ = plt.ylabel('Number of Respondents')\n",
    "\n",
    "_ = plt.legend()\n",
    "\n",
    "plt.show()"
   ]
  },
  {
   "cell_type": "markdown",
   "metadata": {},
   "source": [
    "# Figure 1 Analysis\n",
    "\n",
    "The above graph visualizes the following survey questions:\n",
    "- **assign**: The City’s assessment team does a good job assigning property values\n",
    "- **fair**: The assessed value of my property is fair\n",
    "- **accurate**: The assessed value of my property is accurate\n",
    "- **info**: Overall, I’m satisfied with access to property assessment information\n",
    "\n",
    "We can see from the responses that those respondents that took a negative position (strongly or somewhat disagree) significantly outnumber the respondents who took a positive position (somewhat or strongly agree). In the next section we will look at a hypothesis test to extend this to all Edmonton property owners."
   ]
  },
  {
   "cell_type": "code",
   "execution_count": 12,
   "metadata": {},
   "outputs": [],
   "source": [
    "# create 4 DataFrames with response and question columns\n",
    "\n",
    "df_assign = pd.DataFrame(assign)\n",
    "df_assign['q'] = 'assignment'\n",
    "df_assign.columns = ['response', 'question']\n",
    "\n",
    "df_fair = pd.DataFrame(fair)\n",
    "df_fair['q'] = 'fairness'\n",
    "df_fair.columns = ['response', 'question']\n",
    "\n",
    "df_accuracy = pd.DataFrame(accurate)\n",
    "df_accuracy['q'] = 'accuracy'\n",
    "df_accuracy.columns = ['response', 'question']\n",
    "\n",
    "df_information = pd.DataFrame(info)\n",
    "df_information['q'] = 'information'\n",
    "df_information.columns = ['response', 'question']\n",
    "\n",
    "# concatenate the four DataFrames into one - df\n",
    "df_list = [df_fair, df_accuracy, df_information]\n",
    "df = df_assign.append(df_list, ignore_index=True)\n",
    "\n",
    "# create a new column called count with a value of 1\n",
    "df['count'] = 1\n",
    "\n",
    "df_pivot = df.pivot_table(values='count', index='question', columns='response', aggfunc='sum')\n",
    "df_reset = df_pivot.reset_index()\n",
    "\n",
    "df_plot = df_reset.melt(id_vars='question', value_name='response count')"
   ]
  },
  {
   "cell_type": "code",
   "execution_count": 13,
   "metadata": {},
   "outputs": [
    {
     "data": {
      "image/png": "[encoded data removed]",
      "text/plain": [
       "<Figure size 720x720 with 1 Axes>"
      ]
     },
     "metadata": {
      "needs_background": "light"
     },
     "output_type": "display_data"
    }
   ],
   "source": [
    "gradient = [\"#b50000\", \"#560000\", \"#e0e0e0\", \"#035100\", \"#079e00\", \"#000000\"]\n",
    "\n",
    "plt.figure(figsize=(10, 10))\n",
    "ax = sns.barplot(x=\"question\", y=\"response count\", hue=\"response\", \n",
    "                 data=df_plot, palette=gradient)\n",
    "ax = plt.grid(axis='y', alpha=0.5, color='w')\n",
    "ax = plt.title('Property Assessment Survey \\nSentiment Barplot')\n",
    "\n",
    "plt.show()"
   ]
  },
  {
   "cell_type": "code",
   "execution_count": 14,
   "metadata": {},
   "outputs": [],
   "source": [
    "df_piv = df.pivot_table(values='count', index='response', columns='question', aggfunc='sum')\n",
    "df_reset = df_piv.reset_index()"
   ]
  },
  {
   "cell_type": "code",
   "execution_count": 15,
   "metadata": {},
   "outputs": [],
   "source": [
    "total = df_piv['accuracy'].sum()\n",
    "percentage_a = [i / total for i in df_piv['accuracy']]\n",
    "\n",
    "total = df_piv['assignment'].sum()\n",
    "percentage_as = [i / total for i in df_piv['assignment']]\n",
    "\n",
    "total = df_piv['fairness'].sum()\n",
    "percentage_f = [i / total for i in df_piv['fairness']]\n",
    "\n",
    "total = df_piv['information'].sum()\n",
    "percentage_i = [i / total for i in df_piv['information']]"
   ]
  },
  {
   "cell_type": "code",
   "execution_count": 16,
   "metadata": {},
   "outputs": [],
   "source": [
    "df = pd.DataFrame(percentage_a)\n",
    "df[1] = percentage_as\n",
    "df[2] = percentage_f\n",
    "df[3] = percentage_i\n",
    "\n",
    "def percent_calc(n):\n",
    "    l = [df[n][0]]\n",
    "    ind = 0\n",
    "    for i in range(5):\n",
    "        p = l[ind] + df[n][ind + 1]\n",
    "        l.append(p)\n",
    "        ind += 1\n",
    "    return l\n",
    "\n",
    "accuracy_bars = percent_calc(0)\n",
    "assignment_bars = percent_calc(1)\n",
    "fairness_bars = percent_calc(2)\n",
    "information_bars = percent_calc(3)\n",
    "\n",
    "df = pd.DataFrame(accuracy_bars)\n",
    "df[1] = assignment_bars\n",
    "df[2] = fairness_bars\n",
    "df[3] = information_bars\n",
    "df = df.T\n",
    "df[6] = ['accuracy', 'assignment', 'fairness', 'information']"
   ]
  },
  {
   "cell_type": "code",
   "execution_count": 17,
   "metadata": {},
   "outputs": [
    {
     "data": {
      "image/png": "[encoded data removed]",
      "text/plain": [
       "<Figure size 720x432 with 1 Axes>"
      ]
     },
     "metadata": {},
     "output_type": "display_data"
    }
   ],
   "source": [
    "sns.set(style=\"whitegrid\")\n",
    "# Initialize the matplotlib figure\n",
    "f, ax = plt.subplots(figsize=(10, 6))\n",
    "\n",
    "# Plot the doesn't apply responses\n",
    "sns.barplot(x=5, y=6, data=df,\n",
    "            label=\"doesn't apply\", color=\"#000000\")\n",
    "\n",
    "# Plot the strongly agree responses\n",
    "sns.barplot(x=4, y=6, data=df,\n",
    "            label=\"strongly agree\", color=\"#079e00\")\n",
    "\n",
    "# Plot the somewhat agree responses\n",
    "sns.barplot(x=3, y=6, data=df,\n",
    "            label=\"somewhat agree\", color=\"#035100\")\n",
    "\n",
    "# Plot the neither agree or disagree responses\n",
    "sns.barplot(x=2, y=6, data=df,\n",
    "            label=\"neither agree or disagree\", color=\"#e0e0e0\")\n",
    "\n",
    "# Plot the somewhat disagree responses\n",
    "sns.barplot(x=1, y=6, data=df,\n",
    "            label=\"somewhat disagree\", color=\"#560000\")\n",
    "\n",
    "# Plot the strongly disagree responses\n",
    "sns.barplot(x=0, y=6, data=df,\n",
    "            label=\"strongly disagree\", color=\"#b50000\")\n",
    "\n",
    "# Add a legend and informative axis label\n",
    "ax.legend(ncol=2, loc=\"upper right\", frameon=True)\n",
    "ax.set(ylim=(-1,4.5), ylabel=\"\", xlabel=\"Response Percentage\")\n",
    "sns.despine(left=True, bottom=True)\n",
    "\n",
    "plt.savefig(\"survey-responses.png\")"
   ]
  },
  {
   "cell_type": "markdown",
   "metadata": {},
   "source": [
    "**Generate a 95% Confidence Interval**: for the proportion of Edmonton property owners that want more accurate, fair, and transparent property assessments."
   ]
  },
  {
   "cell_type": "markdown",
   "metadata": {},
   "source": [
    "Let's take a look at the survey question related to the accuracy of the property assessment. The following table is the number of people who responded in each category for this question."
   ]
  },
  {
   "cell_type": "code",
   "execution_count": 18,
   "metadata": {
    "scrolled": true
   },
   "outputs": [
    {
     "data": {
      "text/plain": [
       "Doesn't apply                    18\n",
       "2 Somewhat disagree             420\n",
       "3 Neither agree nor disagree    589\n",
       "5 Strongly agree                164\n",
       "4 Somewhat agree                547\n",
       "1 Strongly disagree             138\n",
       "Name: Q5_CommsAgreement_The assessed value of my property is accurate, dtype: int64"
      ]
     },
     "execution_count": 18,
     "metadata": {},
     "output_type": "execute_result"
    }
   ],
   "source": [
    "a_count = accurate.value_counts(sort=False)\n",
    "a_count"
   ]
  },
  {
   "cell_type": "code",
   "execution_count": 19,
   "metadata": {},
   "outputs": [],
   "source": [
    "agree = np.sum(a_count[['5 Strongly agree', '4 Somewhat agree']])\n",
    "disagree = np.sum(a_count[['1 Strongly disagree', '2 Somewhat disagree']])\n",
    "sample_size = agree + disagree"
   ]
  },
  {
   "cell_type": "markdown",
   "metadata": {},
   "source": [
    "### Calculation for the sample mean\n",
    "$$ \\bar{x} = \\frac{1 \\cdot \\text{disagree} + 0 \\cdot \\text{agree}}{\\text{sample size}} $$"
   ]
  },
  {
   "cell_type": "code",
   "execution_count": 20,
   "metadata": {},
   "outputs": [
    {
     "data": {
      "text/plain": [
       "0.4397163120567376"
      ]
     },
     "execution_count": 20,
     "metadata": {},
     "output_type": "execute_result"
    }
   ],
   "source": [
    "x_bar = (1 * disagree + 0 * agree) / sample_size\n",
    "x_bar"
   ]
  },
  {
   "cell_type": "markdown",
   "metadata": {},
   "source": [
    "### Calculation for the sample variance\n",
    "$$ s^{2} = \\frac{{}\\text{disagree}(1 - \\text{sample mean})^{2} + \\text{agree}(1 - \\text{sample mean})^{2}}{\\text{sample size} -1} $$"
   ]
  },
  {
   "cell_type": "code",
   "execution_count": 21,
   "metadata": {},
   "outputs": [
    {
     "data": {
      "text/plain": [
       "0.3141653802268609"
      ]
     },
     "execution_count": 21,
     "metadata": {},
     "output_type": "execute_result"
    }
   ],
   "source": [
    "variance = (disagree * (1 - x_bar) ** 2 + agree * (1 - x_bar) ** 2) / (sample_size - 1)\n",
    "variance"
   ]
  },
  {
   "cell_type": "code",
   "execution_count": 22,
   "metadata": {},
   "outputs": [
    {
     "data": {
      "text/plain": [
       "0.5605045764548768"
      ]
     },
     "execution_count": 22,
     "metadata": {},
     "output_type": "execute_result"
    }
   ],
   "source": [
    "sample_standard_deviation = np.sqrt(variance)\n",
    "sample_standard_deviation"
   ]
  },
  {
   "cell_type": "markdown",
   "metadata": {},
   "source": [
    "$$ \\text{Confident that: } \\sigma _{x} \\approx \\frac{\\sigma_{\\bar{x}}}{\\sqrt{\\text{sample size}}} $$"
   ]
  },
  {
   "cell_type": "code",
   "execution_count": 23,
   "metadata": {},
   "outputs": [
    {
     "data": {
      "text/plain": [
       "0.01573433352760167"
      ]
     },
     "execution_count": 23,
     "metadata": {},
     "output_type": "execute_result"
    }
   ],
   "source": [
    "sigma_population = sample_standard_deviation / np.sqrt(sample_size)\n",
    "sigma_population"
   ]
  },
  {
   "cell_type": "markdown",
   "metadata": {},
   "source": [
    "`1.96` standard deviations on a z-table give us `97.5%` on the upper limit of our condidence interval."
   ]
  },
  {
   "cell_type": "code",
   "execution_count": 24,
   "metadata": {},
   "outputs": [
    {
     "name": "stdout",
     "output_type": "stream",
     "text": [
      "95% chance that a random sample mean for Edmonton property owners \n",
      "that disagree with the accuracy of their property assessments is between: \n",
      "\n",
      "40.89% and 47.06%\n"
     ]
    }
   ],
   "source": [
    "print('95% chance that a random sample mean for Edmonton property owners \\\n",
    "\\nthat disagree with the accuracy of their property assessments is between: \\\n",
    "\\n\\n{}% and {}%'.format(round((x_bar - 1.96 * sigma_population) * 100, 2), \n",
    "                    round((x_bar + 1.96 * sigma_population) * 100, 2)))"
   ]
  },
  {
   "cell_type": "code",
   "execution_count": 25,
   "metadata": {},
   "outputs": [],
   "source": [
    "def confidence(a):\n",
    "    '''Takes survey question responses—pandas Series—\n",
    "    and provides the 95% confidence interval.\n",
    "    '''\n",
    "    \n",
    "    count = a.value_counts(sort=False)\n",
    "    agree = np.sum(count[['5 Strongly agree', '4 Somewhat agree']])\n",
    "    disagree = np.sum(count[['1 Strongly disagree', '2 Somewhat disagree']])\n",
    "    sample_size = agree + disagree\n",
    "    \n",
    "    x = (1 * disagree + 0 * agree) / sample_size\n",
    "    var = (disagree * (1 - x) ** 2 + agree * (1 - x) ** 2) / (sample_size - 1)\n",
    "    dev = np.sqrt(var)\n",
    "    sigma = dev / np.sqrt(sample_size)\n",
    "    \n",
    "    return print('95% chance that a random sample mean for Edmonton property owners \\\n",
    "    \\nthat disagree is between: \\n\\n{}% and {}%'.format(round((x - 1.96 * sigma) * 100, 2), \n",
    "                                                        round((x + 1.96 * sigma) * 100, 2)))"
   ]
  },
  {
   "cell_type": "code",
   "execution_count": 26,
   "metadata": {},
   "outputs": [
    {
     "name": "stdout",
     "output_type": "stream",
     "text": [
      "95% chance that a random sample mean for Edmonton property owners     \n",
      "that disagree is between: \n",
      "\n",
      "40.89% and 47.06%\n"
     ]
    }
   ],
   "source": [
    "confidence(accurate)"
   ]
  },
  {
   "cell_type": "code",
   "execution_count": 27,
   "metadata": {},
   "outputs": [
    {
     "name": "stdout",
     "output_type": "stream",
     "text": [
      "95% chance that a random sample mean for Edmonton property owners     \n",
      "that disagree is between: \n",
      "\n",
      "13.28% and 22.04%\n"
     ]
    }
   ],
   "source": [
    "confidence(info)"
   ]
  },
  {
   "cell_type": "code",
   "execution_count": 28,
   "metadata": {},
   "outputs": [
    {
     "name": "stdout",
     "output_type": "stream",
     "text": [
      "95% chance that a random sample mean for Edmonton property owners     \n",
      "that disagree is between: \n",
      "\n",
      "31.55% and 38.58%\n"
     ]
    }
   ],
   "source": [
    "confidence(fair)"
   ]
  },
  {
   "cell_type": "code",
   "execution_count": 29,
   "metadata": {},
   "outputs": [
    {
     "name": "stdout",
     "output_type": "stream",
     "text": [
      "95% chance that a random sample mean for Edmonton property owners     \n",
      "that disagree is between: \n",
      "\n",
      "30.29% and 37.69%\n"
     ]
    }
   ],
   "source": [
    "confidence(assign)"
   ]
  },
  {
   "cell_type": "code",
   "execution_count": null,
   "metadata": {},
   "outputs": [],
   "source": []
  }
 ],
 "metadata": {
  "kernelspec": {
   "display_name": "Python 3",
   "language": "python",
   "name": "python3"
  },
  "language_info": {
   "codemirror_mode": {
    "name": "ipython",
    "version": 3
   },
   "file_extension": ".py",
   "mimetype": "text/x-python",
   "name": "python",
   "nbconvert_exporter": "python",
   "pygments_lexer": "ipython3",
   "version": "3.6.7"
  }
 },
 "nbformat": 4,
 "nbformat_minor": 2
}
